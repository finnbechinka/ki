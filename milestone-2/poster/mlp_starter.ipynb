{
  "cells": [
    {
      "cell_type": "markdown",
      "metadata": {
        "id": "cZvfzID2ROXj"
      },
      "source": [
        "# Multilayer Perceptron (MLP)\n",
        "\n",
        "Author: canan.yildiz@tau.edu.tr"
      ]
    },
    {
      "cell_type": "markdown",
      "metadata": {
        "id": "E_9ZljWLROXk"
      },
      "source": [
        "## 1 - Imports"
      ]
    },
    {
      "cell_type": "code",
      "execution_count": null,
      "metadata": {
        "collapsed": true,
        "id": "xV6IT6HKROXl"
      },
      "outputs": [],
      "source": [
        "import numpy as np\n",
        "import h5py\n",
        "import scipy\n",
        "import sklearn.datasets\n",
        "import matplotlib.pyplot as plt\n",
        "import matplotlib.lines as mlines\n",
        "from PIL import Image\n",
        "from scipy import ndimage\n",
        "from scipy.special import expit     # expit is the sigmoid function\n",
        "\n",
        "%matplotlib inline\n",
        "plt.rcParams['figure.figsize'] = (5.0, 4.0) # set default size of plots\n",
        "plt.rcParams['image.interpolation'] = 'nearest'\n",
        "plt.rcParams['image.cmap'] = 'gray'\n",
        "\n",
        "%load_ext autoreload\n",
        "%autoreload 2\n",
        "\n",
        "np.random.seed(1)"
      ]
    },
    {
      "cell_type": "markdown",
      "source": [
        "## 2 - Activation Functions"
      ],
      "metadata": {
        "id": "h9Ak6KPWPAKs"
      }
    },
    {
      "cell_type": "code",
      "source": [
        "def sigmoid(Z):\n",
        "    \"\"\"\n",
        "    Implements the sigmoid activation in numpy \n",
        "    Arguments:\n",
        "      Z -- numpy array of any shape\n",
        "    Returns:\n",
        "      A -- output of sigmoid(z), same shape as Z\n",
        "    \"\"\"\n",
        "    A = 1/(1+np.exp(-Z))\n",
        "    \n",
        "    return A\n",
        "\n",
        "def relu(Z):\n",
        "    \"\"\"\n",
        "    Implement the RELU function.\n",
        "    Arguments:\n",
        "      Z -- Output of the linear layer, of any shape\n",
        "    Returns:\n",
        "      A -- Post-activation parameter, of the same shape as Z\n",
        "    \"\"\"\n",
        "    A = np.maximum(0,Z)\n",
        "    assert(A.shape == Z.shape)\n",
        "\n",
        "    return A"
      ],
      "metadata": {
        "id": "DRJrvGwCPFwz"
      },
      "execution_count": null,
      "outputs": []
    },
    {
      "cell_type": "code",
      "source": [
        "# To be used in the backpropagation step\n",
        "\n",
        "def relu_backward(dA, Z):\n",
        "    \"\"\"\n",
        "    Arguments:\n",
        "      dA --- gradients for the activations of the current layer l: any shape\n",
        "      Z --- input of the relu(Z) during the forward propagation step of the current layer l\n",
        "    Returns:\n",
        "      dZ --- gradients for Z (Partial derivative of the cost with respect to Z)\n",
        "    \"\"\"\n",
        "    dZ = np.array(dA, copy=True)  # just converting dz to a correct object.\n",
        "    dZ[Z <= 0] = 0                # When z <= 0, you should set dz to 0. \n",
        "    assert (dZ.shape == Z.shape)\n",
        "    \n",
        "    return dZ\n",
        "\n",
        "def sigmoid_backward(dA, Z):\n",
        "    \"\"\"\n",
        "    Arguments:\n",
        "      dA --- gradients for the activations of the current layer l: any shape\n",
        "      Z --- input of the relu(Z) during the forward propagation step of the current layer l\n",
        "    Returns:\n",
        "      dZ -- gradients for Z (Partial derivative of the cost with respect to Z)\n",
        "    \"\"\"\n",
        "    s = 1/(1+np.exp(-Z))\n",
        "    dZ = dA * s * (1-s)\n",
        "    assert (dZ.shape == Z.shape)\n",
        "    \n",
        "    return dZ\n",
        "\n",
        "    ### Q : How does the notation exactly work: dZ[Z <= 0] = 0  ?"
      ],
      "metadata": {
        "id": "YOTedDdkeNWg"
      },
      "execution_count": null,
      "outputs": []
    },
    {
      "cell_type": "code",
      "source": [
        "def plot_costs(costs, learning_rate):\n",
        "    plt.plot(np.squeeze(costs))\n",
        "    plt.ylabel('cost')\n",
        "    plt.xlabel('iterations (per hundreds)')\n",
        "    plt.title(\"Learning rate =\" + str(learning_rate))\n",
        "    plt.show()"
      ],
      "metadata": {
        "id": "99r7HLyE5dtR"
      },
      "execution_count": null,
      "outputs": []
    },
    {
      "cell_type": "markdown",
      "metadata": {
        "id": "9Cm-mLsvXHIn"
      },
      "source": [
        "## 3 - Load and preprocess the data"
      ]
    },
    {
      "cell_type": "code",
      "execution_count": null,
      "metadata": {
        "id": "opW6cJdeHAGV"
      },
      "outputs": [],
      "source": [
        "# Generate data that is not linearly separable\n",
        "np.random.seed(7)\n",
        "X1_raw, Y1_raw = sklearn.datasets.make_moons(n_samples=100, \n",
        "                        shuffle=True, noise=0.1, random_state=None)\n",
        "\n",
        "# Tip: You can also use other datasets, e.g. sklearn.datasets.make_circles\n",
        "# Note that the \"test your implementation\" results in this notebook are calculated using the above dataset."
      ]
    },
    {
      "cell_type": "code",
      "source": [
        "# Visualize the data:\n",
        "fig, ax = plt.subplots()\n",
        "ax.scatter(X1_raw[:, 0], X1_raw[:, 1], marker='o', c=Y1_raw, s=25, edgecolor='k')\n",
        "plt.show()"
      ],
      "metadata": {
        "colab": {
          "base_uri": "https://localhost:8080/",
          "height": 265
        },
        "id": "H_jp641ZHm2m",
        "outputId": "da52b5da-58af-404c-e921-a92d9817342a"
      },
      "execution_count": null,
      "outputs": [
        {
          "output_type": "display_data",
          "data": {
            "text/plain": [
              "<Figure size 360x288 with 1 Axes>"
            ],
            "image/png": "[encoded data removed]"
          },
          "metadata": {
            "needs_background": "light"
          }
        }
      ]
    },
    {
      "cell_type": "code",
      "source": [
        "# Check and adjust dimensions if necessary\n",
        "print(X1_raw.shape)\n",
        "print(Y1_raw.shape)\n",
        "\n",
        "# We want to have one datapoint per column in X: (2, 100)\n",
        "# and one label per column in Y : (1, 100)\n",
        "X1 = np.transpose(X1_raw)\n",
        "Y1 = Y1_raw.reshape(1, Y1_raw.shape[0])\n",
        "print(X1.shape)\n",
        "print(Y1.shape)"
      ],
      "metadata": {
        "colab": {
          "base_uri": "https://localhost:8080/"
        },
        "id": "qYzkfzpbIqAI",
        "outputId": "35625a13-967e-4f37-f91b-74ee2a15da49"
      },
      "execution_count": null,
      "outputs": [
        {
          "output_type": "stream",
          "name": "stdout",
          "text": [
            "(100, 2)\n",
            "(100,)\n",
            "(2, 100)\n",
            "(1, 100)\n"
          ]
        }
      ]
    },
    {
      "cell_type": "markdown",
      "metadata": {
        "id": "vmayLUFQROXm"
      },
      "source": [
        "## 4 - Initialization of weights and biases\n",
        "\n",
        "Implement the parameter initialization for one layer of a neural network.\n",
        "\n",
        "- Use random initialization for the weight matrices. You can use `np.random.randn(shape)*0.01` with the correct shape.\n",
        "- Use zero initialization for the biases. You can use `np.zeros(shape)`.\n"
      ]
    },
    {
      "cell_type": "code",
      "execution_count": null,
      "metadata": {
        "collapsed": true,
        "id": "UnGADNdCROXm"
      },
      "outputs": [],
      "source": [
        "def init_params(n_prev, n_curr):\n",
        "    \"\"\"\n",
        "    Arguments:\n",
        "    n_prev --- size of the previous layer (size of the input of the current layer)\n",
        "    n_curr --- size of the current layer\n",
        "    \n",
        "    Returns:\n",
        "    parameters --- (W, b): weight matrix W of shape (n_curr, n_prev), bias vector b of shape (n_curr, 1)\n",
        "    \"\"\"\n",
        "\n",
        "    W = None\n",
        "    b = None\n",
        "    \n",
        "    return (W, b)   \n",
        "\n",
        "### Q : How to initialize random parameters? Why multiply with 0.01?\n",
        "### Q : Why is it not a good idea to use zero initialization for the weight matrices? (Hint: symmetry braking) "
      ]
    },
    {
      "cell_type": "markdown",
      "metadata": {
        "id": "YQhG4GKSY5I2"
      },
      "source": [
        "### Test your implementation"
      ]
    },
    {
      "cell_type": "code",
      "execution_count": null,
      "metadata": {
        "id": "0-WjXB2LROXn",
        "scrolled": true
      },
      "outputs": [],
      "source": [
        "np.random.seed(42)\n",
        "(W,b) = init_params(3,1)\n",
        "print(\"W = \" + str(W))\n",
        "print(\"b = \" + str(b))"
      ]
    },
    {
      "cell_type": "markdown",
      "source": [
        "Run the following code. The expected output is:\n",
        "```\n",
        "W = [[ 0.00496714 -0.00138264  0.00647689]]\n",
        "b = [[0.]]\n",
        "```"
      ],
      "metadata": {
        "id": "Etz4aiMUUhKF"
      }
    },
    {
      "cell_type": "markdown",
      "metadata": {
        "id": "AHOQU5yVROXr"
      },
      "source": [
        "## 5 - Forward propagation step\n",
        "Implement the forward propagation step for a given layer $l$ of a neural network. The activation \"g\" can be sigmoid() or relu(). $A^{[l-1]}$ is the output of the previous layer (note that $A^{[0]}$ is the input X). You may find `np.dot()` useful.\n",
        "\n",
        "$$Z^{[l]} = W^{[l]}A^{[l-1]} +b^{[l]} \\tag{1}$$\n",
        "\n",
        "$$A^{[l]} = g(Z^{[l]}) \\tag{2}$$"
      ]
    },
    {
      "cell_type": "code",
      "execution_count": null,
      "metadata": {
        "collapsed": true,
        "id": "hnOC5ZDdROX4"
      },
      "outputs": [],
      "source": [
        "def forward_step(A_prev, W, b, activation):\n",
        "    \"\"\"\n",
        "    Arguments:\n",
        "    A_prev --- activations of previous layer: numpy array of shape (size of prev layer, number of examples)\n",
        "    W --- weight matrix: numpy array of shape (size of current layer, size of previous layer)\n",
        "    b --- bias vector: numpy array of shape (size of current layer, 1)\n",
        "    activation --- activation of current layer: \"sigmoid\" or \"relu\" (as string)\n",
        "\n",
        "    Returns:\n",
        "    (Z,A) --- logits and outputs of current layer: each of shape (size of current layer, number of examples)\n",
        "    \"\"\"\n",
        "    \n",
        "    # The linear part of a layer's forward propagation.\n",
        "    Z = None\n",
        "    assert(Z.shape == (W.shape[0], A_prev.shape[1]))\n",
        "\n",
        "    # The none-linear part\n",
        "    if activation == \"sigmoid\":\n",
        "        A = None\n",
        "    \n",
        "    elif activation == \"relu\":   \n",
        "        A = None\n",
        "    \n",
        "    assert (A.shape == (W.shape[0], A_prev.shape[1]))\n",
        "\n",
        "    return (Z,A)"
      ]
    },
    {
      "cell_type": "markdown",
      "metadata": {
        "id": "vB7xY4pDZKs2"
      },
      "source": [
        "### Test your implementation"
      ]
    },
    {
      "cell_type": "code",
      "execution_count": null,
      "metadata": {
        "colab": {
          "base_uri": "https://localhost:8080/"
        },
        "id": "8haTPuzsROX5",
        "outputId": "9cf700bd-0f29-4101-dfd7-deac384b5f97"
      },
      "outputs": [
        {
          "output_type": "stream",
          "name": "stdout",
          "text": [
            "With sigmoid: A = [[0.87368765 0.83243148]]\n",
            "With ReLU: A = [[1.93396509 1.6029586 ]]\n"
          ]
        }
      ],
      "source": [
        "np.random.seed(42)\n",
        "A_prev = np.random.randn(3,2)\n",
        "W = np.random.randn(1,3)\n",
        "b = np.random.randn(1,1)\n",
        "\n",
        "(Z_s, A_s) = forward_step(A_prev, W, b, activation = \"sigmoid\")\n",
        "(Z_r, A_r) = forward_step(A_prev, W, b, activation = \"relu\")\n",
        "\n",
        "print(\"With sigmoid: A = \" + str(A_s))\n",
        "print(\"With ReLU: A = \" + str(A_r))"
      ]
    },
    {
      "cell_type": "markdown",
      "source": [
        "Run the following code. The expected output is:\n",
        "```\n",
        "With sigmoid: A = [[0.87368765 0.83243148]]  \n",
        "With ReLU: A = [[1.93396509 1.6029586 ]]\n",
        "```\n"
      ],
      "metadata": {
        "id": "0pGpBcW_Qzh_"
      }
    },
    {
      "cell_type": "markdown",
      "metadata": {
        "id": "lDXl8mNqROX8"
      },
      "source": [
        "## 6 - Cost function\n",
        "\n",
        "Compute the cross-entropy cost $J$ using the following formula. Here, $y^{(i)}$ is the label of the i-th data point and $\\hat{y}^{(i)}$ is the prediction of the neural network for the i-th data point. m is the total number of data points.\n",
        "\n",
        " $$-\\frac{1}{m} \\sum\\limits_{i = 1}^{m} (y^{(i)}\\log\\left(\\hat{y}^{(i)}\\right) + (1-y^{(i)})\\log\\left(1- \\hat{y}^{(i)}\\right)) \\tag{3}$$\n"
      ]
    },
    {
      "cell_type": "code",
      "execution_count": null,
      "metadata": {
        "collapsed": true,
        "id": "34hdbcH2ROX8"
      },
      "outputs": [],
      "source": [
        "def compute_cost(Y_hat, Y):\n",
        "    \"\"\"\n",
        "    Arguments:\n",
        "    Y_hat --- predictions: vector of shape (1, number of examples)\n",
        "    Y --- labels: vector of shape (1, number of examples)\n",
        "\n",
        "    Returns:\n",
        "    cost --- cross-entropy cost\n",
        "    \"\"\"\n",
        "    \n",
        "    m = Y.shape[1]  # number of examples\n",
        "\n",
        "    cost = None\n",
        "    \n",
        "    cost = np.squeeze(cost)      # turns [[17]] into 17\n",
        "    assert(cost.shape == ())\n",
        "    \n",
        "    return cost"
      ]
    },
    {
      "cell_type": "markdown",
      "metadata": {
        "id": "ODjzBS_PZhoc"
      },
      "source": [
        "### Test your implementation"
      ]
    },
    {
      "cell_type": "code",
      "execution_count": null,
      "metadata": {
        "colab": {
          "base_uri": "https://localhost:8080/"
        },
        "id": "mIkSKYKlROX8",
        "outputId": "be173db1-b749-49d1-ec05-1b4abee15997"
      },
      "outputs": [
        {
          "output_type": "stream",
          "name": "stdout",
          "text": [
            "cost = 0.41493159961539694\n"
          ]
        }
      ],
      "source": [
        "Y = np.asarray([[1, 1, 1]])\n",
        "Y_hat = np.array([[.8,.9,0.4]])\n",
        "\n",
        "print(\"cost = \" + str(compute_cost(Y_hat, Y)))"
      ]
    },
    {
      "cell_type": "markdown",
      "metadata": {
        "id": "vDgzTUBAROX9"
      },
      "source": [
        "The expected output is:\n",
        "```\n",
        "0.41493159961539694\n",
        "```"
      ]
    },
    {
      "cell_type": "markdown",
      "metadata": {
        "id": "fueKUh9oROX9"
      },
      "source": [
        "## 7 - Backward propagation step\n",
        "\n",
        "Implement the backpropagation step for one layer (forward_step $l$) of the neural network by calculating the following partial derivatives, which are the part of the \"chain\" belonging to this layer. $g(.)$ is the activation function in the current layer, $g'$ is `sigmoid_backward` or `relu_backward` accordingly: \n",
        "\n",
        "$$dZ^{[l]} := \\frac{\\partial \\mathcal{J} }{\\partial Z^{[l]}} = dA^{[l]} * g'(Z^{[l]}) \\tag{4}$$<br>\n",
        "\n",
        "$$ dW^{[l]} := \\frac{\\partial \\mathcal{J} }{\\partial W^{[l]}} = \\frac{1}{m} dZ^{[l]} A^{[l-1] T} \\tag{5}$$<br>\n",
        "\n",
        "$$ db^{[l]} := \\frac{\\partial \\mathcal{J} }{\\partial b^{[l]}} = \\frac{1}{m} \\sum_{i = 1}^{m} dZ^{[l](i)}\\tag{6}$$<br>\n",
        "\n",
        "$$ dA^{[l-1]} := \\frac{\\partial \\mathcal{L} }{\\partial A^{[l-1]}} = W^{[l] T} dZ^{[l]} \\tag{7}$$<br>"
      ]
    },
    {
      "cell_type": "code",
      "execution_count": null,
      "metadata": {
        "collapsed": true,
        "id": "cRUT2t_zROX-"
      },
      "outputs": [],
      "source": [
        "def backward_step(A_prev, W, b, a, Z, dA):\n",
        "    \"\"\"    \n",
        "    Arguments:\n",
        "    dA --- gradients for the activations of current layer l \n",
        "    cache --- (A_prev, W, b, Z) tuple stored in the forward_step of layer l\n",
        "    activation --- the activation function used in current layer l: \"sigmoid\" or \"relu\"\n",
        "    \n",
        "    Returns:\n",
        "    dA_prev --- Gradient for the activations of the previous layer l-1: same shape as A_prev\n",
        "    dW --- gradients for the weights W of current layer l: same shape as W\n",
        "    db --- gradients for the biases b of current layer l: same shape as b\n",
        "    \"\"\"\n",
        "    m = A_prev.shape[1]\n",
        "\n",
        "    # The non-linear backward part\n",
        "    if a == \"relu\":\n",
        "        dZ = None\n",
        "        \n",
        "    elif a == \"sigmoid\":\n",
        "        dZ = None\n",
        "    \n",
        "\n",
        "    # The linear backward part\n",
        "    dW = None\n",
        "    db = None\n",
        "    dA_prev = None\n",
        "    \n",
        "    assert (dA_prev.shape == A_prev.shape)\n",
        "    assert (dW.shape == W.shape)\n",
        "    assert (db.shape == b.shape)\n",
        "    \n",
        "    return (dA_prev, dW, db)\n",
        "\n",
        "### Q : Give a short explanation of what relu_backward is doing\n",
        "### Q : What happens when the \"axis\" parameter of np.sum is set to 1?"
      ]
    },
    {
      "cell_type": "markdown",
      "metadata": {
        "id": "Ap78YUWHZ_hv"
      },
      "source": [
        "### Test your implementation"
      ]
    },
    {
      "cell_type": "code",
      "execution_count": null,
      "metadata": {
        "id": "O8UkkwEBROX_"
      },
      "outputs": [],
      "source": [
        "np.random.seed(7)\n",
        "dAL = np.random.randn(1,2)         # (size of this layer, number of examples)\n",
        "A_prev = np.random.randn(2,2)     # (size of prev layer, number of examples)\n",
        "W = np.random.randn(1,2)\n",
        "b = np.random.randn(1,1)\n",
        "Z = np.random.randn(1,2)\n",
        "\n",
        "(dA_prev, dW, db) = backward_step(A_prev, W, b, \"sigmoid\", Z, dAL)\n",
        "print (\"for sigmoid:\")\n",
        "print (\"dA_prev = \"+ str(dA_prev))\n",
        "print (\"dW = \" + str(dW))\n",
        "print (\"db = \" + str(db) + \"\\n\")\n",
        "\n",
        "dA_prev, dW, db = backward_step(A_prev, W, b, \"relu\", Z, dAL)\n",
        "print (\"for relu:\")\n",
        "print (\"dA_prev = \"+ str(dA_prev))\n",
        "print (\"dW = \" + str(dW))\n",
        "print (\"db = \" + str(db))"
      ]
    },
    {
      "cell_type": "markdown",
      "source": [
        "The Expected output is:\n",
        "```\n",
        "for sigmoid:\n",
        "dA_prev = [[-3.44320629e-04  9.41999464e-05]\n",
        " [-6.78568478e-01  1.85644161e-01]]\n",
        "dW = [[-0.01521102 -0.15265126]]\n",
        "db = [[0.14045634]]\n",
        "\n",
        "for relu:\n",
        "dA_prev = [[-1.50522018e-03  0.00000000e+00]\n",
        " [-2.96640654e+00  0.00000000e+00]]\n",
        "dW = [[ 0.02774167 -0.66684733]]\n",
        "db = [[0.84526285]]\n",
        "```\n",
        "\n"
      ],
      "metadata": {
        "id": "b94fp74elEVE"
      }
    },
    {
      "cell_type": "markdown",
      "metadata": {
        "id": "o47XONbCROYA"
      },
      "source": [
        "## 8 - Parameter Updates\n",
        "Implement the function for the parameter update using the following formulas. $\\alpha$ is the learning rate.\n",
        "\n",
        "$$ W^{[l]} = W^{[l]} - \\alpha \\text{ } dW^{[l]} \\tag{8}$$\n",
        "$$ b^{[l]} = b^{[l]} - \\alpha \\text{ } db^{[l]} \\tag{9}$$\n",
        "\n"
      ]
    },
    {
      "cell_type": "code",
      "execution_count": null,
      "metadata": {
        "collapsed": true,
        "id": "peuckqV0ROYB"
      },
      "outputs": [],
      "source": [
        "def update_parameters(parameters, gradients, learning_rate):\n",
        "    \"\"\"    \n",
        "    Arguments:\n",
        "    parameters --- (W,b,a): parameters of current layer l\n",
        "    grads --- (dW, db): gradients for the weights and biases of current layer l\n",
        "    \n",
        "    Returns:\n",
        "    (W_new, b_new) --- updated weights and biases\n",
        "    \"\"\"\n",
        "    (W,b,a) = parameters\n",
        "    (dW,db) = gradients\n",
        "    W_new = None\n",
        "    b_new = None\n",
        "\n",
        "    return (W_new, b_new, a)"
      ]
    },
    {
      "cell_type": "markdown",
      "metadata": {
        "id": "VFf3Zt7fapah"
      },
      "source": [
        "### Test your implementation"
      ]
    },
    {
      "cell_type": "code",
      "execution_count": null,
      "metadata": {
        "colab": {
          "base_uri": "https://localhost:8080/"
        },
        "id": "kWPMqeT3ROYC",
        "outputId": "edac82fa-32b6-4fde-f273-dc260517c0c7"
      },
      "outputs": [
        {
          "output_type": "stream",
          "name": "stdout",
          "text": [
            "W_new = [[ 1.5887599  -0.52598722  0.09536306]\n",
            " [ 0.42467111 -0.83945297  0.02820121]]\n",
            "b_new = [[ 0.02338452]\n",
            " [-1.60940017]]\n"
          ]
        }
      ],
      "source": [
        "np.random.seed(7)\n",
        "W = np.random.randn(2,3)\n",
        "b = np.random.randn(2,1)\n",
        "a = \"relu\"\n",
        "dW = np.random.randn(2,3)\n",
        "db = np.random.randn(2,1)\n",
        "(W_new, b_new, a) = update_parameters((W,b,a), (dW,db), 0.1)\n",
        "\n",
        "print (\"W_new = \"+ str(W_new))\n",
        "print (\"b_new = \"+ str(b_new))"
      ]
    },
    {
      "cell_type": "markdown",
      "source": [
        "The expected output is:\n",
        "```\n",
        "W_new = [[ 1.5887599  -0.52598722  0.09536306]\n",
        " [ 0.42467111 -0.83945297  0.02820121]]\n",
        "b_new = [[ 0.02338452]\n",
        " [-1.60940017]]\n",
        "```\n",
        "\n"
      ],
      "metadata": {
        "id": "K8RmmJVnnh5T"
      }
    },
    {
      "cell_type": "markdown",
      "metadata": {
        "id": "BZbYcbanetEL"
      },
      "source": [
        "## 9 - Model Initialization\n",
        "\n",
        "Implement the initialization of a model with the given layer dimensions.\n"
      ]
    },
    {
      "cell_type": "code",
      "source": [
        "def init_model(layer_dims, activations):\n",
        "    \"\"\"\n",
        "    Arguments:\n",
        "    layer_dims --- array of dimensions, for each layer including input layer (e.g. (2,3,1))\n",
        "    activations --- array of activation functıons to be used, for each layer except the input layer (e.g. (\"relu\", \"sigmoid\"))\n",
        "\n",
        "    Returns:\n",
        "    model --- array of (W, b, activation) tuples, one for each layer\n",
        "    \"\"\"\n",
        "\n",
        "    L = len(layer_dims) - 1\n",
        "    model = [None for i in range (0,L+1,1)]\n",
        "    model[0]=(None,None,None)    # Interpreting Input layer as layer number 0 (no parameters, no activation)\n",
        "\n",
        "    for l in range(1,L+1,1):\n",
        "      (W, b) = None\n",
        "      model[l] = None\n",
        "    \n",
        "    return model\n"
      ],
      "metadata": {
        "id": "SwMLW0FRu2xQ"
      },
      "execution_count": null,
      "outputs": []
    },
    {
      "cell_type": "markdown",
      "source": [
        "### Test your implementation"
      ],
      "metadata": {
        "id": "tms2QaOCHnDn"
      }
    },
    {
      "cell_type": "code",
      "source": [
        "np.random.seed(7)\n",
        "model = init_model((2,3,1), (\"relu\",\"sigmoid\"))\n",
        "for l in range(1,len(model),1):\n",
        "  (W,b,a) = model[l]\n",
        "  print(\"Layer\",l,\":\",W.shape[1],\"inputs and\", W.shape[0],\"outputs ( activation\",a,\")\")\n",
        "  print(\"W: \\n\", W)\n",
        "  print(\"b: \\n\", b)"
      ],
      "metadata": {
        "colab": {
          "base_uri": "https://localhost:8080/"
        },
        "id": "PD9GN6bqx761",
        "outputId": "9e5977e8-9c19-460e-cd80-48e66acf152c"
      },
      "execution_count": null,
      "outputs": [
        {
          "output_type": "stream",
          "name": "stdout",
          "text": [
            "Layer 1 : 2 inputs and 3 outputs ( activation relu )\n",
            "W: \n",
            " [[ 1.69052570e-02 -4.65937371e-03]\n",
            " [ 3.28201637e-04  4.07516283e-03]\n",
            " [-7.88923029e-03  2.06557291e-05]]\n",
            "b: \n",
            " [[0.]\n",
            " [0.]\n",
            " [0.]]\n",
            "Layer 2 : 3 inputs and 1 outputs ( activation sigmoid )\n",
            "W: \n",
            " [[-8.90385858e-06 -1.75472431e-02  1.01765801e-02]]\n",
            "b: \n",
            " [[0.]]\n"
          ]
        }
      ]
    },
    {
      "cell_type": "markdown",
      "source": [
        "Expected output is:\n",
        "```\n",
        "Layer 1 : 2 inputs and 3 outputs (activation relu )\n",
        "W: \n",
        " [[ 1.69052570e-02 -4.65937371e-03]\n",
        " [ 3.28201637e-04  4.07516283e-03]\n",
        " [-7.88923029e-03  2.06557291e-05]]\n",
        "b: \n",
        " [[0.]\n",
        " [0.]\n",
        " [0.]]\n",
        "Layer 2 : 3 inputs and 1 outputs (activation sigmoid )\n",
        "W: \n",
        " [[-8.90385858e-06 -1.75472431e-02  1.01765801e-02]]\n",
        "b: \n",
        " [[0.]]\n",
        "```\n",
        "\n"
      ],
      "metadata": {
        "id": "DgOVcG5tH1WN"
      }
    },
    {
      "cell_type": "markdown",
      "metadata": {
        "id": "pmiJT1_WkgIc"
      },
      "source": [
        "## 10 - Model Trainig\n",
        "\n",
        "Implement the function for training a given model on a given dataset.\n",
        "\n",
        "Log the cost regularly to see if your model is learning correctly. The cost should be decreasing. After the training, you will have your neural network model with the learned **parameters**, which corresponds to your hypothesis function $h^{*}(x)$.\n",
        "\n"
      ]
    },
    {
      "cell_type": "code",
      "execution_count": null,
      "metadata": {
        "id": "qWdOQexofFvJ"
      },
      "outputs": [],
      "source": [
        "def train_model(model, X, Y, num_iterations = 3000, learning_rate = 0.01, print_cost=False):\n",
        "    \"\"\"\n",
        "\n",
        "    Arguments:\n",
        "    model --- model to be trained: array of (W, b, activation) tuples, one for each layer\n",
        "    X --- input data: of shape (n, number of examples)\n",
        "    Y --- labels for the input data: of shape (1, number of examples)\n",
        "    num_iterations --- number of iterations of the optimization loop\n",
        "    learning_rate --- learning rate of the gradient descent update rule\n",
        "    print_cost --- If set to True, this will print the cost every 100 iterations \n",
        "    \n",
        "    Returns:\n",
        "    model --- model with trained parameters\n",
        "    costs --- costs saved every 100th itertion during training\n",
        "    \"\"\"\n",
        "\n",
        "    n = X.shape[0]                        # number of features\n",
        "    m = X.shape[1]                        # number of examples\n",
        "    L = len(model) - 1                    # number of layers in model (input layer not included)\n",
        "\n",
        "    assert (n == model[1][0].shape[1])    # n == (layer 1 -> W -> number of columns) ?\n",
        "    \n",
        "    costs = []                                # to keep track of the cost\n",
        "    grads = [None for i in range(0,L+1,1)]\n",
        "    grads[0] = (None, None)                   # no gradients for input layer 0\n",
        "    outputs = [None for i in range(0,L+1,1)]\n",
        "    outputs[0] = (None,X)                     # \"Outputs\" of input layer are the datapoints X\n",
        "\n",
        "    \n",
        "    # Loop (gradient descent)\n",
        "    for i in range(0, num_iterations):\n",
        "\n",
        "        # Forward propagation\n",
        "        A_prev = None\n",
        "        for l in range(1,L+1,1):\n",
        "          (W,b,a) = None\n",
        "          (Z,A) = None\n",
        "          outputs[l] = None\n",
        "          A_prev = None\n",
        "        AL = None          # Output of last layer L (i.e. predictions)\n",
        "\n",
        "        # Compute cost\n",
        "        cost = None\n",
        "        \n",
        "        # Initialize backward propagation by calculating gradients for AL\n",
        "        dAL = None\n",
        "        \n",
        "        # Backward propagation\n",
        "        dA = dAL\n",
        "        for l in range(L,0,-1):\n",
        "          (W,b,a) = None\n",
        "          (Z_prev,A_prev) = None\n",
        "          (Z,A) = None\n",
        "          (dA_prev, dW, db) = None\n",
        "          grads[l] = None\n",
        "          dA = None\n",
        "        \n",
        "        # Update model parameters\n",
        "        for l in range(1,L+1,1):\n",
        "          model[l] = None\n",
        "        \n",
        "        # Print the cost every 100 training example\n",
        "        if print_cost and i % 100 == 0:\n",
        "            print(\"Cost after iteration {}: {}\".format(i, np.squeeze(cost)))\n",
        "        if i % 100 == 0:\n",
        "            costs.append(cost)\n",
        "    \n",
        "    \n",
        "    return model, costs\n",
        "\n",
        "    ### Q : What does np.divide do exactly?"
      ]
    },
    {
      "cell_type": "markdown",
      "source": [
        "### Test your implementation"
      ],
      "metadata": {
        "id": "BRD74_pFdsIV"
      }
    },
    {
      "cell_type": "code",
      "execution_count": null,
      "metadata": {
        "id": "jZOhCR96pMmn",
        "colab": {
          "base_uri": "https://localhost:8080/"
        },
        "outputId": "4eaf5e07-249c-4406-dc7a-18bbd7a26a35"
      },
      "outputs": [
        {
          "output_type": "stream",
          "name": "stdout",
          "text": [
            "Layer 1\n",
            "W: \n",
            " [[ 5.79827820e-01 -1.24586352e+00]\n",
            " [-1.38621994e-01  1.62132531e+00]\n",
            " [-3.92030584e-03 -1.59684129e-03]]\n",
            "b: \n",
            " [[ 1.27401504]\n",
            " [ 0.90924215]\n",
            " [-0.00462265]]\n",
            "Layer 2\n",
            "W: \n",
            " [[ 1.8734467  -1.86390208  0.00894749]]\n",
            "b: \n",
            " [[-0.15249612]]\n"
          ]
        }
      ],
      "source": [
        "np.random.seed(7)\n",
        "model = init_model((2,3,1), (\"relu\",\"sigmoid\"))\n",
        "num_iterations = 1000\n",
        "learning_rate = 0.1\n",
        "print_cost=False\n",
        "model, costs = train_model(model, X1, Y1, num_iterations, learning_rate, print_cost)\n",
        "#plot_costs(costs, learning_rate)\n",
        "for l in range(1,len(model),1):\n",
        "  (W,b,a) = model[l]\n",
        "  print(\"Layer\",l)\n",
        "  print(\"W: \\n\", W)\n",
        "  print(\"b: \\n\", b)"
      ]
    },
    {
      "cell_type": "markdown",
      "source": [
        "Expected output is:\n",
        "\n",
        "```\n",
        "Layer 1\n",
        "W: \n",
        " [[ 5.79827820e-01 -1.24586352e+00]\n",
        " [-1.38621994e-01  1.62132531e+00]\n",
        " [-3.92030584e-03 -1.59684129e-03]]\n",
        "b: \n",
        " [[ 1.27401504]\n",
        " [ 0.90924215]\n",
        " [-0.00462265]]\n",
        "Layer 2\n",
        "W: \n",
        " [[ 1.8734467  -1.86390208  0.00894749]]\n",
        "b: \n",
        " [[-0.15249612]]\n",
        "```\n",
        "\n"
      ],
      "metadata": {
        "id": "eiymIiVPm4PV"
      }
    },
    {
      "cell_type": "markdown",
      "metadata": {
        "id": "MEEEaqvslaGO"
      },
      "source": [
        "## 11 - Making Predictions\n",
        "\n",
        "Using the learned parameters you can now predict the output for new input values $X$.\n",
        "\n",
        "Implement a function (`model_forward(X, Y, parameters)`) that takes input values $X$ and computes the corresponding output values (predictions) using the learned parameters.\n",
        "\n",
        "(to  be continued...)"
      ]
    },
    {
      "cell_type": "code",
      "execution_count": null,
      "metadata": {
        "id": "K-YsJC3UzpMj"
      },
      "outputs": [],
      "source": [
        "def model_forward(model, X):\n",
        "    \"\"\"\n",
        "    Implement forward propagation for the given neural network model\n",
        "    \n",
        "    Arguments:\n",
        "    model --- trained model\n",
        "    X --- data: numpy array of shape (input size, number of examples)\n",
        "    \n",
        "    Returns:\n",
        "    AL --- putput of last layer (predictions)\n",
        "    outputs --- list of calculated outputs during forward_step\n",
        "    \"\"\"\n",
        "\n",
        "    L = len(model) - 1                        # number of layers in the neural network (input layer not included)\n",
        "    outputs = [None for i in range(0,L+1,1)]\n",
        "    outputs[0] = (None,X)                     # \"Outputs\" of input layer are the datapoints X\n",
        "\n",
        "    # Forward propagation\n",
        "    A_prev = X\n",
        "    for l in range(1,L+1,1):\n",
        "      (W,b,a) = None\n",
        "      (Z,A) = None\n",
        "      outputs[l] = None\n",
        "      A_prev = None\n",
        "    AL = None        # Output of last layer L (i.e. predictions)\n",
        "    \n",
        "    assert(AL.shape == (1,X.shape[1]))\n",
        "            \n",
        "    return AL, outputs"
      ]
    },
    {
      "cell_type": "markdown",
      "source": [
        "### Test your implementation"
      ],
      "metadata": {
        "id": "3unnp6WbqPj1"
      }
    },
    {
      "cell_type": "code",
      "execution_count": null,
      "metadata": {
        "colab": {
          "base_uri": "https://localhost:8080/"
        },
        "id": "89MPrWYL2VQM",
        "outputId": "583fb2f4-fb5b-4f7b-8f6a-3b2cb9d995c1"
      },
      "outputs": [
        {
          "output_type": "stream",
          "name": "stdout",
          "text": [
            "[0.01030258 0.99269639 0.94674441 0.41083869 0.05092415 0.96912069\n",
            " 0.97984208 0.94746217 0.00974002]\n",
            "[0 1 1 0 0 1 1 1 0]\n"
          ]
        }
      ],
      "source": [
        "np.random.seed(7)\n",
        "model = init_model((2,3,1), (\"relu\",\"sigmoid\"))\n",
        "num_iterations = 1000\n",
        "learning_rate = 0.1\n",
        "print_cost=False\n",
        "trained_model, costs = train_model(model, X1, Y1, num_iterations, learning_rate, print_cost)\n",
        "probabilities, outputs = model_forward(model, X1)\n",
        "print(probabilities[0,1:10])\n",
        "print(Y1[0,1:10])"
      ]
    },
    {
      "cell_type": "markdown",
      "source": [
        "Expected output is:\n",
        "\n",
        "```\n",
        "[0.01030258 0.99269639 0.94674441 0.41083869 0.05092415 0.96912069\n",
        " 0.97984208 0.94746217 0.00974002]\n",
        "[0 1 1 0 0 1 1 1 0]\n",
        "```\n",
        "\n"
      ],
      "metadata": {
        "id": "ct4BTnE9qSnK"
      }
    },
    {
      "cell_type": "markdown",
      "metadata": {
        "id": "CAHLexjN5oEZ"
      },
      "source": [
        "## 12 - Performance Analysis\n",
        "\n",
        "Implement a function for calculating the accuracy of given probability outputs, given the expetcted labels Y."
      ]
    },
    {
      "cell_type": "code",
      "source": [
        "def model_accuracy(AL, Y):\n",
        "    \"\"\"    \n",
        "    Arguments:\n",
        "    AL --- probability outputs to be assessed\n",
        "    Y --- ground truth (expected true labels)\n",
        "    \n",
        "    Returns:\n",
        "    p --- predicted classes for the given dataset X\n",
        "    accuracy --- accuracy of the predictions (correct rate)\n",
        "    \"\"\"\n",
        "    m = Y.shape[1]    # number of data points\n",
        "\n",
        "    # convert probas to 0/1 predictions\n",
        "    for i in range(0, AL.shape[1]):\n",
        "        if AL[0,i] > 0.5:\n",
        "            p[0,i] = 1\n",
        "        else:\n",
        "            p[0,i] = 0\n",
        "    \n",
        "    accuracy = np.sum((p == Y)/m)\n",
        "        \n",
        "    return (p, accuracy)"
      ],
      "metadata": {
        "id": "fDk0R5Pf3ihh"
      },
      "execution_count": null,
      "outputs": []
    },
    {
      "cell_type": "markdown",
      "source": [
        "## 13 - Test your implementation"
      ],
      "metadata": {
        "id": "eoxuTyTE48M8"
      }
    },
    {
      "cell_type": "code",
      "execution_count": null,
      "metadata": {
        "id": "1hYf0KbjAX-B"
      },
      "outputs": [],
      "source": [
        "# Train set accuray of our model_1\n",
        "np.random.seed(77)\n",
        "model = init_model((2,5,1), (\"relu\",\"sigmoid\"))\n",
        "num_iterations = 2000\n",
        "learning_rate = 0.1\n",
        "print_cost=True\n",
        "traıned_model, costs = train_model(model, X1, Y1, num_iterations, learning_rate, print_cost)\n",
        "\n",
        "AY, outputs = model_forward(trained_model, X1)\n",
        "\n",
        "plot_costs(costs, learning_rate)\n",
        "\n",
        "p, accuracy = model_accuracy(AY, Y1)\n",
        "print(\"Train Accuracy: \", accuracy)"
      ]
    },
    {
      "cell_type": "code",
      "source": [],
      "metadata": {
        "id": "XRo5IOBE5Jmq"
      },
      "execution_count": null,
      "outputs": []
    }
  ],
  "metadata": {
    "colab": {
      "collapsed_sections": [
        "9Cm-mLsvXHIn",
        "YQhG4GKSY5I2",
        "vB7xY4pDZKs2",
        "ODjzBS_PZhoc",
        "Ap78YUWHZ_hv",
        "VFf3Zt7fapah",
        "tms2QaOCHnDn",
        "BRD74_pFdsIV",
        "3unnp6WbqPj1"
      ],
      "provenance": []
    },
    "coursera": {
      "course_slug": "neural-networks-deep-learning",
      "graded_item_id": "c4HO0",
      "launcher_item_id": "lSYZM"
    },
    "kernelspec": {
      "display_name": "Python 3.9.10 64-bit",
      "language": "python",
      "name": "python3"
    },
    "language_info": {
      "codemirror_mode": {
        "name": "ipython",
        "version": 3
      },
      "file_extension": ".py",
      "mimetype": "text/x-python",
      "name": "python",
      "nbconvert_exporter": "python",
      "pygments_lexer": "ipython3",
      "version": "3.9.10"
    },
    "vscode": {
      "interpreter": {
        "hash": "aee8b7b246df8f9039afb4144a1f6fd8d2ca17a180786b69acc140d282b71a49"
      }
    }
  },
  "nbformat": 4,
  "nbformat_minor": 0
}